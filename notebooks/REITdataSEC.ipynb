{
 "cells": [
  {
   "cell_type": "code",
   "execution_count": 1,
   "metadata": {},
   "outputs": [],
   "source": [
    "import pandas as pd\n",
    "from bs4 import BeautifulSoup\n",
    "import requests, json, re, csv\n",
    "from datetime import datetime as dt"
   ]
  },
  {
   "cell_type": "code",
   "execution_count": 2,
   "metadata": {},
   "outputs": [],
   "source": [
    "def getREITinfo():\n",
    "    \"\"\"This function queries the wikipedia page\n",
    "    for the most its list of most recent public\n",
    "    traded REITs. Pulls the 'name', 'REIT desc.'\n",
    "    and 'ticker' and returns a zipped list.\n",
    "    \"\"\"\n",
    "    \n",
    "    url = 'https://en.wikipedia.org/wiki/List_of_public_REITs_in_the_United_States'\n",
    "    edgarurl = 'https://www.sec.gov/cgi-bin/browse-edgar?CIK={}&owner=exclude&action=getcompany'\n",
    "\n",
    "    reit_ticks = []\n",
    "    names = []\n",
    "    types = []\n",
    "    urllist = []\n",
    "    \n",
    "    data = requests.get(url)\n",
    "\n",
    "    soup = BeautifulSoup(data.text, 'lxml')\n",
    "    raw = (soup.findAll(class_='external text'))\n",
    "\n",
    "    raw = [str(r) for r in raw]\n",
    "    raw = [r.split(',') for r in raw]\n",
    "    for r in raw:\n",
    "        reit_ticks.append((r[0].split('nofollow\">')[1].rstrip('</a>')))\n",
    "\n",
    "    namerows = soup.findAll('tr')\n",
    "    for n in namerows[1:]:\n",
    "        names.append(str(n.findAll('td')[0].text).replace(\"\\n\",''))\n",
    "        types.append(str(n.findAll('td')[1].text).replace(\"\\n\",''))\n",
    "    final_list = list(zip(names, types, reit_ticks))\n",
    "\n",
    "    df = pd.DataFrame(final_list, columns=['company','type','ticker'])\n",
    "    \n",
    "    for i in df.ticker:\n",
    "        urllist.append(edgarurl.format(i))\n",
    "    df['company_url'] = urllist\n",
    "    return df"
   ]
  },
  {
   "cell_type": "code",
   "execution_count": 3,
   "metadata": {},
   "outputs": [
    {
     "data": {
      "text/plain": [
       "(75, 4)"
      ]
     },
     "execution_count": 3,
     "metadata": {},
     "output_type": "execute_result"
    }
   ],
   "source": [
    "df = getREITinfo()\n",
    "df.shape"
   ]
  },
  {
   "cell_type": "code",
   "execution_count": 4,
   "metadata": {},
   "outputs": [
    {
     "data": {
      "text/html": [
       "<div>\n",
       "<style scoped>\n",
       "    .dataframe tbody tr th:only-of-type {\n",
       "        vertical-align: middle;\n",
       "    }\n",
       "\n",
       "    .dataframe tbody tr th {\n",
       "        vertical-align: top;\n",
       "    }\n",
       "\n",
       "    .dataframe thead th {\n",
       "        text-align: right;\n",
       "    }\n",
       "</style>\n",
       "<table border=\"1\" class=\"dataframe\">\n",
       "  <thead>\n",
       "    <tr style=\"text-align: right;\">\n",
       "      <th></th>\n",
       "      <th>company</th>\n",
       "      <th>type</th>\n",
       "      <th>ticker</th>\n",
       "      <th>company_url</th>\n",
       "    </tr>\n",
       "  </thead>\n",
       "  <tbody>\n",
       "    <tr>\n",
       "      <th>38</th>\n",
       "      <td>Alexandria Real Estate Equities</td>\n",
       "      <td>Office</td>\n",
       "      <td>ARE</td>\n",
       "      <td>https://www.sec.gov/cgi-bin/browse-edgar?CIK=A...</td>\n",
       "    </tr>\n",
       "    <tr>\n",
       "      <th>39</th>\n",
       "      <td>Boston Properties</td>\n",
       "      <td>Office</td>\n",
       "      <td>BXP</td>\n",
       "      <td>https://www.sec.gov/cgi-bin/browse-edgar?CIK=B...</td>\n",
       "    </tr>\n",
       "    <tr>\n",
       "      <th>40</th>\n",
       "      <td>Brandywine Realty Trust</td>\n",
       "      <td>Office</td>\n",
       "      <td>BDN</td>\n",
       "      <td>https://www.sec.gov/cgi-bin/browse-edgar?CIK=B...</td>\n",
       "    </tr>\n",
       "    <tr>\n",
       "      <th>41</th>\n",
       "      <td>Corporate Office Properties Trust</td>\n",
       "      <td>Office</td>\n",
       "      <td>OFC</td>\n",
       "      <td>https://www.sec.gov/cgi-bin/browse-edgar?CIK=O...</td>\n",
       "    </tr>\n",
       "    <tr>\n",
       "      <th>42</th>\n",
       "      <td>Mack-Cali Realty Corporation</td>\n",
       "      <td>Office</td>\n",
       "      <td>CLI</td>\n",
       "      <td>https://www.sec.gov/cgi-bin/browse-edgar?CIK=C...</td>\n",
       "    </tr>\n",
       "    <tr>\n",
       "      <th>43</th>\n",
       "      <td>SL Green Realty</td>\n",
       "      <td>Office</td>\n",
       "      <td>SLG</td>\n",
       "      <td>https://www.sec.gov/cgi-bin/browse-edgar?CIK=S...</td>\n",
       "    </tr>\n",
       "  </tbody>\n",
       "</table>\n",
       "</div>"
      ],
      "text/plain": [
       "                              company    type ticker  \\\n",
       "38    Alexandria Real Estate Equities  Office    ARE   \n",
       "39                  Boston Properties  Office    BXP   \n",
       "40            Brandywine Realty Trust  Office    BDN   \n",
       "41  Corporate Office Properties Trust  Office    OFC   \n",
       "42       Mack-Cali Realty Corporation  Office    CLI   \n",
       "43                    SL Green Realty  Office    SLG   \n",
       "\n",
       "                                          company_url  \n",
       "38  https://www.sec.gov/cgi-bin/browse-edgar?CIK=A...  \n",
       "39  https://www.sec.gov/cgi-bin/browse-edgar?CIK=B...  \n",
       "40  https://www.sec.gov/cgi-bin/browse-edgar?CIK=B...  \n",
       "41  https://www.sec.gov/cgi-bin/browse-edgar?CIK=O...  \n",
       "42  https://www.sec.gov/cgi-bin/browse-edgar?CIK=C...  \n",
       "43  https://www.sec.gov/cgi-bin/browse-edgar?CIK=S...  "
      ]
     },
     "execution_count": 4,
     "metadata": {},
     "output_type": "execute_result"
    }
   ],
   "source": [
    "df.loc[df.type=='Office']"
   ]
  },
  {
   "cell_type": "code",
   "execution_count": 5,
   "metadata": {},
   "outputs": [],
   "source": [
    "def spec10Klinks(x, x_type):\n",
    "    \"\"\"Function that returns specific type from dataframe\n",
    "    Parameters\n",
    "    ----------\n",
    "    x : Pandas DataFrame.\n",
    "        First parameter\n",
    "    x_type : String\n",
    "        Must match string from pd.series 'type'\n",
    "    \n",
    "    Returns\n",
    "    -------\n",
    "    dataframe\n",
    "    \"\"\"\n",
    "    vals = x['type'].unique()\n",
    "    if x_type not in vals:\n",
    "        return 'Check that \"x_type\" is in:{}'.format(vals)\n",
    "    else:\n",
    "        predf = x.copy()\n",
    "        slicedf = predf.loc[predf.type == x_type]\n",
    "    #return slicedf\n",
    "\n",
    "    return slicedf"
   ]
  },
  {
   "cell_type": "code",
   "execution_count": 6,
   "metadata": {},
   "outputs": [
    {
     "data": {
      "text/plain": [
       "(6, 4)"
      ]
     },
     "execution_count": 6,
     "metadata": {},
     "output_type": "execute_result"
    }
   ],
   "source": [
    "office = spec10Klinks(df, 'Office')\n",
    "office.shape"
   ]
  },
  {
   "cell_type": "code",
   "execution_count": 7,
   "metadata": {},
   "outputs": [
    {
     "data": {
      "text/html": [
       "<div>\n",
       "<style scoped>\n",
       "    .dataframe tbody tr th:only-of-type {\n",
       "        vertical-align: middle;\n",
       "    }\n",
       "\n",
       "    .dataframe tbody tr th {\n",
       "        vertical-align: top;\n",
       "    }\n",
       "\n",
       "    .dataframe thead th {\n",
       "        text-align: right;\n",
       "    }\n",
       "</style>\n",
       "<table border=\"1\" class=\"dataframe\">\n",
       "  <thead>\n",
       "    <tr style=\"text-align: right;\">\n",
       "      <th></th>\n",
       "      <th>company</th>\n",
       "      <th>type</th>\n",
       "      <th>ticker</th>\n",
       "      <th>company_url</th>\n",
       "    </tr>\n",
       "  </thead>\n",
       "  <tbody>\n",
       "    <tr>\n",
       "      <th>38</th>\n",
       "      <td>Alexandria Real Estate Equities</td>\n",
       "      <td>Office</td>\n",
       "      <td>ARE</td>\n",
       "      <td>https://www.sec.gov/cgi-bin/browse-edgar?CIK=A...</td>\n",
       "    </tr>\n",
       "    <tr>\n",
       "      <th>39</th>\n",
       "      <td>Boston Properties</td>\n",
       "      <td>Office</td>\n",
       "      <td>BXP</td>\n",
       "      <td>https://www.sec.gov/cgi-bin/browse-edgar?CIK=B...</td>\n",
       "    </tr>\n",
       "    <tr>\n",
       "      <th>40</th>\n",
       "      <td>Brandywine Realty Trust</td>\n",
       "      <td>Office</td>\n",
       "      <td>BDN</td>\n",
       "      <td>https://www.sec.gov/cgi-bin/browse-edgar?CIK=B...</td>\n",
       "    </tr>\n",
       "    <tr>\n",
       "      <th>41</th>\n",
       "      <td>Corporate Office Properties Trust</td>\n",
       "      <td>Office</td>\n",
       "      <td>OFC</td>\n",
       "      <td>https://www.sec.gov/cgi-bin/browse-edgar?CIK=O...</td>\n",
       "    </tr>\n",
       "    <tr>\n",
       "      <th>42</th>\n",
       "      <td>Mack-Cali Realty Corporation</td>\n",
       "      <td>Office</td>\n",
       "      <td>CLI</td>\n",
       "      <td>https://www.sec.gov/cgi-bin/browse-edgar?CIK=C...</td>\n",
       "    </tr>\n",
       "  </tbody>\n",
       "</table>\n",
       "</div>"
      ],
      "text/plain": [
       "                              company    type ticker  \\\n",
       "38    Alexandria Real Estate Equities  Office    ARE   \n",
       "39                  Boston Properties  Office    BXP   \n",
       "40            Brandywine Realty Trust  Office    BDN   \n",
       "41  Corporate Office Properties Trust  Office    OFC   \n",
       "42       Mack-Cali Realty Corporation  Office    CLI   \n",
       "\n",
       "                                          company_url  \n",
       "38  https://www.sec.gov/cgi-bin/browse-edgar?CIK=A...  \n",
       "39  https://www.sec.gov/cgi-bin/browse-edgar?CIK=B...  \n",
       "40  https://www.sec.gov/cgi-bin/browse-edgar?CIK=B...  \n",
       "41  https://www.sec.gov/cgi-bin/browse-edgar?CIK=O...  \n",
       "42  https://www.sec.gov/cgi-bin/browse-edgar?CIK=C...  "
      ]
     },
     "execution_count": 7,
     "metadata": {},
     "output_type": "execute_result"
    }
   ],
   "source": [
    "office.head()"
   ]
  },
  {
   "cell_type": "code",
   "execution_count": 8,
   "metadata": {},
   "outputs": [],
   "source": [
    "def get10KRecent(urllist):\n",
    "    base10k = 'https://www.sec.gov'\n",
    "    desc_types = ['10-K', 'FORM 10-K']\n",
    "    fyear = dt.now().year\n",
    "    year = str(fyear)[-2:]\n",
    "    _10kList = []\n",
    "    recent10k = []\n",
    "\n",
    "    for url in urllist:\n",
    "        html = requests.get(url)\n",
    "        soup = BeautifulSoup(html.text,\"lxml\")\n",
    "        table = soup.findAll(class_=\"tableFile2\")\n",
    "        for r in table:\n",
    "            row = r.findAll('tr')\n",
    "            for d in row:\n",
    "                data = d.findAll('td')\n",
    "                if len(data) > 0:\n",
    "                    if data[0].text in desc_types:\n",
    "                        _10Ksuffix = data[1].a['href']\n",
    "                        _10kList.append(base10k + _10Ksuffix)\n",
    "    for x in _10kList:\n",
    "        if str(x[-19:-17]) == year:\n",
    "            recent10k.append(x)\n",
    "    return recent10k"
   ]
  },
  {
   "cell_type": "code",
   "execution_count": 10,
   "metadata": {},
   "outputs": [
    {
     "data": {
      "text/plain": [
       "['https://www.sec.gov/Archives/edgar/data/1035443/000103544319000041/0001035443-19-000041-index.htm',\n",
       " 'https://www.sec.gov/Archives/edgar/data/1037540/000165642319000006/0001656423-19-000006-index.htm',\n",
       " 'https://www.sec.gov/Archives/edgar/data/790816/000156459019003921/0001564590-19-003921-index.htm',\n",
       " 'https://www.sec.gov/Archives/edgar/data/860546/000086054619000007/0000860546-19-000007-index.htm',\n",
       " 'https://www.sec.gov/Archives/edgar/data/924901/000110465919009587/0001104659-19-009587-index.htm',\n",
       " 'https://www.sec.gov/Archives/edgar/data/1040971/000104097119000007/0001040971-19-000007-index.htm']"
      ]
     },
     "execution_count": 10,
     "metadata": {},
     "output_type": "execute_result"
    }
   ],
   "source": [
    "recent = get10KRecent(office.company_url)\n",
    "recent"
   ]
  }
 ],
 "metadata": {
  "kernelspec": {
   "display_name": "Python 3",
   "language": "python",
   "name": "python3"
  },
  "language_info": {
   "codemirror_mode": {
    "name": "ipython",
    "version": 3
   },
   "file_extension": ".py",
   "mimetype": "text/x-python",
   "name": "python",
   "nbconvert_exporter": "python",
   "pygments_lexer": "ipython3",
   "version": "3.5.3"
  }
 },
 "nbformat": 4,
 "nbformat_minor": 2
}
