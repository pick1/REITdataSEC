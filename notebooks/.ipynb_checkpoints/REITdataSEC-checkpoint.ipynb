{
 "cells": [
  {
   "cell_type": "code",
   "execution_count": 285,
   "metadata": {},
   "outputs": [],
   "source": [
    "import xml.etree.ElementTree as ET\n",
    "import pandas as pd\n",
    "import numpy as np\n",
    "from bs4 import BeautifulSoup\n",
    "import requests, json, sqlalchemy, re, csv\n",
    "from fastkml import kml\n",
    "from sqlalchemy import create_engine\n",
    "import psycopg2\n",
    "import time\n",
    "from datetime import datetime as dt\n",
    "from datetime import date, timedelta\n",
    "import matplotlib.pyplot as plt\n",
    "import seaborn as sns\n",
    "%matplotlib inline"
   ]
  },
  {
   "cell_type": "code",
   "execution_count": 391,
   "metadata": {},
   "outputs": [],
   "source": [
    "def getREITinfo():\n",
    "    \"\"\"This function queries the wikipedia page\n",
    "       for the most its list of most recent public\n",
    "       traded REITs. Pulls the 'name', 'REIT desc.'\n",
    "       and 'ticker' and returns a zipped list.\"\"\"\n",
    "    \n",
    "    url = 'https://en.wikipedia.org/wiki/List_of_public_REITs_in_the_United_States'\n",
    "    data = requests.get(url)\n",
    "\n",
    "    soup = BeautifulSoup(data.text, 'lxml')\n",
    "    raw = (soup.findAll(class_='external text'))\n",
    "\n",
    "    raw = [str(r) for r in raw]\n",
    "    raw = [r.split(',') for r in raw]\n",
    "    reit_ticks = []\n",
    "    for r in raw:\n",
    "        reit_ticks.append((r[0].split('nofollow\">')[1].rstrip('</a>')))\n",
    "    #print('Length of tickers:',len(ticks))\n",
    "\n",
    "    namerows = soup.findAll('tr')\n",
    "    names = []\n",
    "    types = []\n",
    "    for n in namerows[1:]:\n",
    "        names.append(str(n.findAll('td')[0].text).replace(\"\\n\",''))\n",
    "        types.append(str(n.findAll('td')[1].text).replace(\"\\n\",''))\n",
    "    #print('Length of names:',len(names))\n",
    "    #print('Length of types:',len(types))\n",
    "    final_list = list(zip(names, types, ticks))\n",
    "\n",
    "    df = pd.DataFrame(final_list, columns=['company','type','ticker'])\n",
    "    return df"
   ]
  },
  {
   "cell_type": "code",
   "execution_count": 432,
   "metadata": {},
   "outputs": [],
   "source": [
    "df = getREITinfo()"
   ]
  },
  {
   "cell_type": "code",
   "execution_count": 448,
   "metadata": {},
   "outputs": [],
   "source": [
    "def get10KsByType(x, x_type):\n",
    "    \"\"\"Function that returns specific type from dataframe\n",
    "    Parameters\n",
    "    ----------\n",
    "    x : Pandas DataFrame.\n",
    "        First parameter\n",
    "    x_type : String\n",
    "        Must match string from pd.series 'type'\n",
    "    \n",
    "    Returns\n",
    "    -------\n",
    "    dataframe\n",
    "    \"\"\"\n",
    "    print(x_type)\n",
    "    vals = x['type'].unique()\n",
    "    if x_type not in vals:\n",
    "        return 'Check that \"x_type\" is in:{}'.format(vals)\n",
    "    #    return 'x not in dataframe, please check values.'\n",
    "    else:\n",
    "        predf = x.copy()\n",
    "        slicedf = predf.loc[predf.type == x_type]\n",
    "    return slicedf\n",
    "    "
   ]
  },
  {
   "cell_type": "code",
   "execution_count": 455,
   "metadata": {},
   "outputs": [
    {
     "name": "stdout",
     "output_type": "stream",
     "text": [
      "Private prisons\n"
     ]
    }
   ],
   "source": [
    "office = get10KsByType(df, 'Private prisons')"
   ]
  },
  {
   "cell_type": "code",
   "execution_count": 456,
   "metadata": {},
   "outputs": [
    {
     "data": {
      "text/html": [
       "<div>\n",
       "<style scoped>\n",
       "    .dataframe tbody tr th:only-of-type {\n",
       "        vertical-align: middle;\n",
       "    }\n",
       "\n",
       "    .dataframe tbody tr th {\n",
       "        vertical-align: top;\n",
       "    }\n",
       "\n",
       "    .dataframe thead th {\n",
       "        text-align: right;\n",
       "    }\n",
       "</style>\n",
       "<table border=\"1\" class=\"dataframe\">\n",
       "  <thead>\n",
       "    <tr style=\"text-align: right;\">\n",
       "      <th></th>\n",
       "      <th>company</th>\n",
       "      <th>type</th>\n",
       "      <th>ticker</th>\n",
       "    </tr>\n",
       "  </thead>\n",
       "  <tbody>\n",
       "    <tr>\n",
       "      <th>44</th>\n",
       "      <td>GEO Group</td>\n",
       "      <td>Private prisons</td>\n",
       "      <td>GEO</td>\n",
       "    </tr>\n",
       "  </tbody>\n",
       "</table>\n",
       "</div>"
      ],
      "text/plain": [
       "      company             type ticker\n",
       "44  GEO Group  Private prisons    GEO"
      ]
     },
     "execution_count": 456,
     "metadata": {},
     "output_type": "execute_result"
    }
   ],
   "source": [
    "office"
   ]
  },
  {
   "cell_type": "code",
   "execution_count": 422,
   "metadata": {},
   "outputs": [],
   "source": [
    "for x in office.type:\n",
    "    if 'Office' != x:\n",
    "        print('shit')"
   ]
  },
  {
   "cell_type": "code",
   "execution_count": 384,
   "metadata": {},
   "outputs": [
    {
     "name": "stdout",
     "output_type": "stream",
     "text": [
      "Length of tickers: 75\n",
      "Length of names: 75\n",
      "Length of types: 75\n"
     ]
    },
    {
     "data": {
      "text/plain": [
       "['https://www.sec.gov/cgi-bin/browse-edgar?CIK=ARE&owner=exclude&action=getcompany',\n",
       " 'https://www.sec.gov/cgi-bin/browse-edgar?CIK=BXP&owner=exclude&action=getcompany',\n",
       " 'https://www.sec.gov/cgi-bin/browse-edgar?CIK=BDN&owner=exclude&action=getcompany',\n",
       " 'https://www.sec.gov/cgi-bin/browse-edgar?CIK=OFC&owner=exclude&action=getcompany',\n",
       " 'https://www.sec.gov/cgi-bin/browse-edgar?CIK=CLI&owner=exclude&action=getcompany',\n",
       " 'https://www.sec.gov/cgi-bin/browse-edgar?CIK=SLG&owner=exclude&action=getcompany']"
      ]
     },
     "execution_count": 384,
     "metadata": {},
     "output_type": "execute_result"
    }
   ],
   "source": [
    "edgarurl = 'https://www.sec.gov/cgi-bin/browse-edgar?CIK={}&owner=exclude&action=getcompany'\n",
    "base10k = 'https://www.sec.gov'\n",
    "url = 'https://en.wikipedia.org/wiki/List_of_public_REITs_in_the_United_States'\n",
    "data = requests.get(url)\n",
    "\n",
    "soup = BeautifulSoup(data.text, 'lxml')\n",
    "raw = (soup.findAll(class_='external text'))\n",
    "\n",
    "raw = [str(r) for r in raw]\n",
    "raw = [r.split(',') for r in raw]\n",
    "reit_ticks = []\n",
    "for r in raw:\n",
    "    reit_ticks.append((r[0].split('nofollow\">')[1].rstrip('</a>')))\n",
    "print('Length of tickers:',len(ticks))\n",
    "\n",
    "namerows = soup.findAll('tr')\n",
    "names = []\n",
    "types = []\n",
    "for n in namerows[1:]:\n",
    "    names.append(str(n.findAll('td')[0].text).replace(\"\\n\",''))\n",
    "    types.append(str(n.findAll('td')[1].text).replace(\"\\n\",''))\n",
    "print('Length of names:',len(names))\n",
    "print('Length of types:',len(types))\n",
    "\n",
    "final_list = list(zip(names, types, ticks))\n",
    "\n",
    "df = pd.DataFrame(final_list, columns=['company','type','ticker'])\n",
    "df.columns\n",
    "office = df.loc[df.type == 'Office']\n",
    "\n",
    "urllist = []\n",
    "for i in office.ticker:\n",
    "    urllist.append(edgarurl.format(i))\n",
    "office['link_10k'] = urllist"
   ]
  },
  {
   "cell_type": "code",
   "execution_count": 388,
   "metadata": {},
   "outputs": [
    {
     "name": "stderr",
     "output_type": "stream",
     "text": [
      "/home/dp/.local/lib/python3.5/site-packages/ipykernel_launcher.py:1: SettingWithCopyWarning: \n",
      "A value is trying to be set on a copy of a slice from a DataFrame.\n",
      "Try using .loc[row_indexer,col_indexer] = value instead\n",
      "\n",
      "See the caveats in the documentation: http://pandas.pydata.org/pandas-docs/stable/indexing.html#indexing-view-versus-copy\n",
      "  \"\"\"Entry point for launching an IPython kernel.\n"
     ]
    }
   ],
   "source": []
  },
  {
   "cell_type": "code",
   "execution_count": 390,
   "metadata": {},
   "outputs": [
    {
     "data": {
      "text/html": [
       "<div>\n",
       "<style scoped>\n",
       "    .dataframe tbody tr th:only-of-type {\n",
       "        vertical-align: middle;\n",
       "    }\n",
       "\n",
       "    .dataframe tbody tr th {\n",
       "        vertical-align: top;\n",
       "    }\n",
       "\n",
       "    .dataframe thead th {\n",
       "        text-align: right;\n",
       "    }\n",
       "</style>\n",
       "<table border=\"1\" class=\"dataframe\">\n",
       "  <thead>\n",
       "    <tr style=\"text-align: right;\">\n",
       "      <th></th>\n",
       "      <th>company</th>\n",
       "      <th>type</th>\n",
       "      <th>ticker</th>\n",
       "      <th>link_10k</th>\n",
       "    </tr>\n",
       "  </thead>\n",
       "  <tbody>\n",
       "    <tr>\n",
       "      <th>38</th>\n",
       "      <td>Alexandria Real Estate Equities</td>\n",
       "      <td>Office</td>\n",
       "      <td>ARE</td>\n",
       "      <td>https://www.sec.gov/cgi-bin/browse-edgar?CIK=A...</td>\n",
       "    </tr>\n",
       "    <tr>\n",
       "      <th>39</th>\n",
       "      <td>Boston Properties</td>\n",
       "      <td>Office</td>\n",
       "      <td>BXP</td>\n",
       "      <td>https://www.sec.gov/cgi-bin/browse-edgar?CIK=B...</td>\n",
       "    </tr>\n",
       "    <tr>\n",
       "      <th>40</th>\n",
       "      <td>Brandywine Realty Trust</td>\n",
       "      <td>Office</td>\n",
       "      <td>BDN</td>\n",
       "      <td>https://www.sec.gov/cgi-bin/browse-edgar?CIK=B...</td>\n",
       "    </tr>\n",
       "    <tr>\n",
       "      <th>41</th>\n",
       "      <td>Corporate Office Properties Trust</td>\n",
       "      <td>Office</td>\n",
       "      <td>OFC</td>\n",
       "      <td>https://www.sec.gov/cgi-bin/browse-edgar?CIK=O...</td>\n",
       "    </tr>\n",
       "    <tr>\n",
       "      <th>42</th>\n",
       "      <td>Mack-Cali Realty Corporation</td>\n",
       "      <td>Office</td>\n",
       "      <td>CLI</td>\n",
       "      <td>https://www.sec.gov/cgi-bin/browse-edgar?CIK=C...</td>\n",
       "    </tr>\n",
       "    <tr>\n",
       "      <th>43</th>\n",
       "      <td>SL Green Realty</td>\n",
       "      <td>Office</td>\n",
       "      <td>SLG</td>\n",
       "      <td>https://www.sec.gov/cgi-bin/browse-edgar?CIK=S...</td>\n",
       "    </tr>\n",
       "  </tbody>\n",
       "</table>\n",
       "</div>"
      ],
      "text/plain": [
       "                              company    type ticker  \\\n",
       "38    Alexandria Real Estate Equities  Office    ARE   \n",
       "39                  Boston Properties  Office    BXP   \n",
       "40            Brandywine Realty Trust  Office    BDN   \n",
       "41  Corporate Office Properties Trust  Office    OFC   \n",
       "42       Mack-Cali Realty Corporation  Office    CLI   \n",
       "43                    SL Green Realty  Office    SLG   \n",
       "\n",
       "                                             link_10k  \n",
       "38  https://www.sec.gov/cgi-bin/browse-edgar?CIK=A...  \n",
       "39  https://www.sec.gov/cgi-bin/browse-edgar?CIK=B...  \n",
       "40  https://www.sec.gov/cgi-bin/browse-edgar?CIK=B...  \n",
       "41  https://www.sec.gov/cgi-bin/browse-edgar?CIK=O...  \n",
       "42  https://www.sec.gov/cgi-bin/browse-edgar?CIK=C...  \n",
       "43  https://www.sec.gov/cgi-bin/browse-edgar?CIK=S...  "
      ]
     },
     "execution_count": 390,
     "metadata": {},
     "output_type": "execute_result"
    }
   ],
   "source": [
    "office"
   ]
  },
  {
   "cell_type": "code",
   "execution_count": 322,
   "metadata": {},
   "outputs": [
    {
     "data": {
      "text/plain": [
       "['https://www.sec.gov/cgi-bin/browse-edgar?CIK=ARE&owner=exclude&action=getcompany',\n",
       " 'https://www.sec.gov/cgi-bin/browse-edgar?CIK=BXP&owner=exclude&action=getcompany',\n",
       " 'https://www.sec.gov/cgi-bin/browse-edgar?CIK=BDN&owner=exclude&action=getcompany',\n",
       " 'https://www.sec.gov/cgi-bin/browse-edgar?CIK=OFC&owner=exclude&action=getcompany',\n",
       " 'https://www.sec.gov/cgi-bin/browse-edgar?CIK=CLI&owner=exclude&action=getcompany',\n",
       " 'https://www.sec.gov/cgi-bin/browse-edgar?CIK=SLG&owner=exclude&action=getcompany']"
      ]
     },
     "execution_count": 322,
     "metadata": {},
     "output_type": "execute_result"
    }
   ],
   "source": [
    "\n",
    "\n",
    "df = pd.DataFrame(final_list, columns=['company','type','ticker'])\n",
    "df.columns\n",
    "office = df.loc[df.type == 'Office']\n",
    "\n",
    "urllist = []\n",
    "for i in office.ticker:\n",
    "    urllist.append(edgarurl.format(i))\n",
    "urllist"
   ]
  },
  {
   "cell_type": "code",
   "execution_count": 184,
   "metadata": {},
   "outputs": [],
   "source": [
    "df.to_csv('REITsFromWikipedia.csv')"
   ]
  },
  {
   "cell_type": "code",
   "execution_count": 198,
   "metadata": {},
   "outputs": [
    {
     "data": {
      "text/plain": [
       "['https://www.sec.gov/cgi-bin/browse-edgar?CIK=ARE&owner=exclude&action=getcompany',\n",
       " 'https://www.sec.gov/cgi-bin/browse-edgar?CIK=BXP&owner=exclude&action=getcompany',\n",
       " 'https://www.sec.gov/cgi-bin/browse-edgar?CIK=BDN&owner=exclude&action=getcompany',\n",
       " 'https://www.sec.gov/cgi-bin/browse-edgar?CIK=OFC&owner=exclude&action=getcompany',\n",
       " 'https://www.sec.gov/cgi-bin/browse-edgar?CIK=CLI&owner=exclude&action=getcompany',\n",
       " 'https://www.sec.gov/cgi-bin/browse-edgar?CIK=SLG&owner=exclude&action=getcompany']"
      ]
     },
     "execution_count": 198,
     "metadata": {},
     "output_type": "execute_result"
    }
   ],
   "source": []
  },
  {
   "cell_type": "code",
   "execution_count": 348,
   "metadata": {},
   "outputs": [],
   "source": [
    "def get10K(urllist):\n",
    "    base10k = 'https://www.sec.gov'\n",
    "    desc_types = ['10-K', 'FORM 10-K']\n",
    "    _10kList = []\n",
    "\n",
    "    for url in urllist:\n",
    "        #print(str(url))\n",
    "        html = requests.get(url)\n",
    "        soup = BeautifulSoup(html.text,\"lxml\")\n",
    "        table = soup.findAll(class_=\"tableFile2\")\n",
    "        for r in table:\n",
    "            row = r.findAll('tr')\n",
    "            for d in row:\n",
    "                data = d.findAll('td')\n",
    "                if len(data) > 0:\n",
    "                    if data[0].text in desc_types:\n",
    "                        _10Ksuffix = data[1].a['href']\n",
    "                        _10kList.append(base10k + _10Ksuffix)\n",
    "    return _10kList"
   ]
  },
  {
   "cell_type": "code",
   "execution_count": 349,
   "metadata": {},
   "outputs": [
    {
     "data": {
      "text/plain": [
       "['https://www.sec.gov/Archives/edgar/data/1035443/000103544319000041/0001035443-19-000041-index.htm',\n",
       " 'https://www.sec.gov/Archives/edgar/data/1037540/000165642319000006/0001656423-19-000006-index.htm',\n",
       " 'https://www.sec.gov/Archives/edgar/data/1037540/000165642318000004/0001656423-18-000004-index.htm',\n",
       " 'https://www.sec.gov/Archives/edgar/data/790816/000156459019003921/0001564590-19-003921-index.htm',\n",
       " 'https://www.sec.gov/Archives/edgar/data/790816/000156459018003023/0001564590-18-003023-index.htm',\n",
       " 'https://www.sec.gov/Archives/edgar/data/860546/000086054619000007/0000860546-19-000007-index.htm',\n",
       " 'https://www.sec.gov/Archives/edgar/data/860546/000086054618000013/0000860546-18-000013-index.htm',\n",
       " 'https://www.sec.gov/Archives/edgar/data/924901/000110465919009587/0001104659-19-009587-index.htm',\n",
       " 'https://www.sec.gov/Archives/edgar/data/1040971/000104097119000007/0001040971-19-000007-index.htm',\n",
       " 'https://www.sec.gov/Archives/edgar/data/1040971/000104097118000006/0001040971-18-000006-index.htm']"
      ]
     },
     "execution_count": 349,
     "metadata": {},
     "output_type": "execute_result"
    }
   ],
   "source": [
    "recent = get10K(urllist)\n",
    "recent"
   ]
  },
  {
   "cell_type": "code",
   "execution_count": 374,
   "metadata": {},
   "outputs": [
    {
     "name": "stdout",
     "output_type": "stream",
     "text": [
      "https://www.sec.gov/Archives/edgar/data/1035443/000103544319000041/0001035443-19-000041-index.htm\n",
      "https://www.sec.gov/Archives/edgar/data/1037540/000165642319000006/0001656423-19-000006-index.htm\n",
      "https://www.sec.gov/Archives/edgar/data/1037540/000165642318000004/0001656423-18-000004-index.htm\n",
      "https://www.sec.gov/Archives/edgar/data/790816/000156459019003921/0001564590-19-003921-index.htm\n",
      "https://www.sec.gov/Archives/edgar/data/790816/000156459018003023/0001564590-18-003023-index.htm\n",
      "https://www.sec.gov/Archives/edgar/data/860546/000086054619000007/0000860546-19-000007-index.htm\n",
      "https://www.sec.gov/Archives/edgar/data/860546/000086054618000013/0000860546-18-000013-index.htm\n",
      "https://www.sec.gov/Archives/edgar/data/924901/000110465919009587/0001104659-19-009587-index.htm\n",
      "https://www.sec.gov/Archives/edgar/data/1040971/000104097119000007/0001040971-19-000007-index.htm\n",
      "https://www.sec.gov/Archives/edgar/data/1040971/000104097118000006/0001040971-18-000006-index.htm\n"
     ]
    }
   ],
   "source": [
    "for x in recent:\n",
    "    print(x)"
   ]
  },
  {
   "cell_type": "code",
   "execution_count": 378,
   "metadata": {},
   "outputs": [],
   "source": [
    "def recent10k(recent):\n",
    "    fyear = dt.now().year\n",
    "    year = str(fyear)[-2:]\n",
    "    recent10k = []\n",
    "    for x in recent:\n",
    "        if str(x[-19:-17]) == year:\n",
    "            recent10k.append(x)\n",
    "    return recent10k"
   ]
  },
  {
   "cell_type": "code",
   "execution_count": 381,
   "metadata": {},
   "outputs": [],
   "source": [
    "_10ks = recent10k(recent)"
   ]
  },
  {
   "cell_type": "code",
   "execution_count": 382,
   "metadata": {},
   "outputs": [
    {
     "name": "stdout",
     "output_type": "stream",
     "text": [
      "https://www.sec.gov/Archives/edgar/data/1035443/000103544319000041/0001035443-19-000041-index.htm\n",
      "https://www.sec.gov/Archives/edgar/data/1037540/000165642319000006/0001656423-19-000006-index.htm\n",
      "https://www.sec.gov/Archives/edgar/data/790816/000156459019003921/0001564590-19-003921-index.htm\n",
      "https://www.sec.gov/Archives/edgar/data/860546/000086054619000007/0000860546-19-000007-index.htm\n",
      "https://www.sec.gov/Archives/edgar/data/924901/000110465919009587/0001104659-19-009587-index.htm\n",
      "https://www.sec.gov/Archives/edgar/data/1040971/000104097119000007/0001040971-19-000007-index.htm\n"
     ]
    }
   ],
   "source": [
    "for x in _10ks:\n",
    "    print(x)"
   ]
  },
  {
   "cell_type": "code",
   "execution_count": 313,
   "metadata": {},
   "outputs": [
    {
     "ename": "NameError",
     "evalue": "name 'recent10k' is not defined",
     "output_type": "error",
     "traceback": [
      "\u001b[0;31m---------------------------------------------------------------------------\u001b[0m",
      "\u001b[0;31mNameError\u001b[0m                                 Traceback (most recent call last)",
      "\u001b[0;32m<ipython-input-313-7d5ecff570bb>\u001b[0m in \u001b[0;36m<module>\u001b[0;34m\u001b[0m\n\u001b[0;32m----> 1\u001b[0;31m \u001b[0mrecent10k\u001b[0m\u001b[0;34m\u001b[0m\u001b[0m\n\u001b[0m\u001b[1;32m      2\u001b[0m \u001b[0;32mfor\u001b[0m \u001b[0my\u001b[0m \u001b[0;32min\u001b[0m \u001b[0m_10ks\u001b[0m\u001b[0;34m:\u001b[0m\u001b[0;34m\u001b[0m\u001b[0m\n\u001b[1;32m      3\u001b[0m     \u001b[0;32mif\u001b[0m \u001b[0mstr\u001b[0m\u001b[0;34m(\u001b[0m\u001b[0my\u001b[0m\u001b[0;34m[\u001b[0m\u001b[0;34m-\u001b[0m\u001b[0;36m19\u001b[0m\u001b[0;34m:\u001b[0m\u001b[0;34m-\u001b[0m\u001b[0;36m17\u001b[0m\u001b[0;34m]\u001b[0m\u001b[0;34m)\u001b[0m \u001b[0;34m==\u001b[0m \u001b[0myear\u001b[0m\u001b[0;34m:\u001b[0m\u001b[0;34m\u001b[0m\u001b[0m\n\u001b[1;32m      4\u001b[0m         \u001b[0mrecent10k\u001b[0m\u001b[0;34m.\u001b[0m\u001b[0mappend\u001b[0m\u001b[0;34m(\u001b[0m\u001b[0my\u001b[0m\u001b[0;34m)\u001b[0m\u001b[0;34m\u001b[0m\u001b[0m\n\u001b[1;32m      5\u001b[0m     \u001b[0;31m#if str(y[-19:-17]) == 19:\u001b[0m\u001b[0;34m\u001b[0m\u001b[0;34m\u001b[0m\u001b[0m\n",
      "\u001b[0;31mNameError\u001b[0m: name 'recent10k' is not defined"
     ]
    }
   ],
   "source": [
    "\n",
    "    #if str(y[-19:-17]) == 19:\n",
    "    #    print(y)\n",
    "    "
   ]
  },
  {
   "cell_type": "code",
   "execution_count": 282,
   "metadata": {},
   "outputs": [
    {
     "data": {
      "text/plain": [
       "'19'"
      ]
     },
     "execution_count": 282,
     "metadata": {},
     "output_type": "execute_result"
    }
   ],
   "source": [
    "y[0][-19:-17]"
   ]
  },
  {
   "cell_type": "code",
   "execution_count": 260,
   "metadata": {},
   "outputs": [
    {
     "name": "stdout",
     "output_type": "stream",
     "text": [
      "https://www.sec.gov/cgi-bin/browse-edgar?CIK=ARE&owner=exclude&action=getcompany\n",
      "https://www.sec.gov/Archives/edgar/data/1035443/000103544319000041/0001035443-19-000041-index.htm\n",
      "https://www.sec.gov/cgi-bin/browse-edgar?CIK=BXP&owner=exclude&action=getcompany\n",
      "https://www.sec.gov/Archives/edgar/data/1037540/000165642319000006/0001656423-19-000006-index.htm\n",
      "https://www.sec.gov/Archives/edgar/data/1037540/000165642318000004/0001656423-18-000004-index.htm\n",
      "https://www.sec.gov/cgi-bin/browse-edgar?CIK=BDN&owner=exclude&action=getcompany\n",
      "https://www.sec.gov/Archives/edgar/data/790816/000156459019003921/0001564590-19-003921-index.htm\n",
      "https://www.sec.gov/Archives/edgar/data/790816/000156459018003023/0001564590-18-003023-index.htm\n",
      "https://www.sec.gov/cgi-bin/browse-edgar?CIK=OFC&owner=exclude&action=getcompany\n",
      "https://www.sec.gov/Archives/edgar/data/860546/000086054619000007/0000860546-19-000007-index.htm\n",
      "https://www.sec.gov/Archives/edgar/data/860546/000086054618000013/0000860546-18-000013-index.htm\n",
      "https://www.sec.gov/cgi-bin/browse-edgar?CIK=CLI&owner=exclude&action=getcompany\n",
      "https://www.sec.gov/Archives/edgar/data/924901/000110465919009587/0001104659-19-009587-index.htm\n",
      "https://www.sec.gov/cgi-bin/browse-edgar?CIK=SLG&owner=exclude&action=getcompany\n",
      "https://www.sec.gov/Archives/edgar/data/1040971/000104097119000007/0001040971-19-000007-index.htm\n",
      "https://www.sec.gov/Archives/edgar/data/1040971/000104097118000006/0001040971-18-000006-index.htm\n"
     ]
    }
   ],
   "source": [
    "base10k = 'https://www.sec.gov'\n",
    "desc_types = ['10-K', 'FORM 10-K']\n",
    "rawlinks = []\n",
    "cleanlinks = []\n",
    "\n",
    "for url in urllist[0:]:\n",
    "    print(str(url))\n",
    "    html = requests.get(url)\n",
    "    soup = BeautifulSoup(html.text,\"lxml\")\n",
    "    table = soup.findAll(class_=\"tableFile2\")\n",
    "    for r in table:\n",
    "        row = r.findAll('tr')\n",
    "        for d in row:\n",
    "            data = d.findAll('td')\n",
    "            if len(data) > 0:\n",
    "                if data[0].text in desc_types:\n",
    "                    _10Ksuffix = data[1].a['href']\n",
    "                    cleanlinks.append(base10k + _10Ksuffix)"
   ]
  },
  {
   "cell_type": "code",
   "execution_count": null,
   "metadata": {},
   "outputs": [],
   "source": []
  }
 ],
 "metadata": {
  "kernelspec": {
   "display_name": "Python 3",
   "language": "python",
   "name": "python3"
  },
  "language_info": {
   "codemirror_mode": {
    "name": "ipython",
    "version": 3
   },
   "file_extension": ".py",
   "mimetype": "text/x-python",
   "name": "python",
   "nbconvert_exporter": "python",
   "pygments_lexer": "ipython3",
   "version": "3.5.3"
  }
 },
 "nbformat": 4,
 "nbformat_minor": 2
}
